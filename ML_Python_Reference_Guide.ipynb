{
 "cells": [
  {
   "cell_type": "markdown",
   "metadata": {},
   "source": [
    "# 10 Common Machine Learning Algorithms\n",
    "\n",
    "There are 3 main algorithm categories.\n",
    "\n",
    "1. **Supervised Algorithms:** \n",
    "\n",
    "2. **Unsupervised Algorithms:**\n",
    "\n",
    "3. **Reinforcement Algorithms:**\n",
    "\n",
    "### The 10 Algorithms\n",
    "\n",
    "* [Linear Regression](#Linear_Regression)\n",
    "* [SVM (Support Vector Machine)](#SVM)\n",
    "* [KNN (K-Nearest Neighbors)](#KNN)\n",
    "* [Logistic Regression](#Logistic_Regression)\n",
    "* [Decision Tree](#Decision_Tree)\n",
    "* [K-Means](#K_Means)\n",
    "* [Random Forest](#Random_Forest)\n",
    "* [Naive Bayes](#Naive_Bayes)\n",
    "* Dimensional Reduction Algorithms\n",
    "* Gradient Boosting Algorithms\n",
    "\n"
   ]
  },
  {
   "cell_type": "markdown",
   "metadata": {},
   "source": [
    "### Digits dataset\n",
    "\n",
    "Each datapoint is an 8x8 image of a digit\n",
    "Learn more about [here](https://scikit-learn.org/stable/modules/generated/sklearn.datasets.load_digits.html?highlight=digits%20dataset#sklearn.datasets.load_digits)"
   ]
  },
  {
   "cell_type": "code",
   "execution_count": 41,
   "metadata": {},
   "outputs": [
    {
     "name": "stdout",
     "output_type": "stream",
     "text": [
      "(1797, 64)\n",
      "[[ 0.  0.  5. ...  0.  0.  0.]\n",
      " [ 0.  0.  0. ... 10.  0.  0.]\n",
      " [ 0.  0.  0. ... 16.  9.  0.]\n",
      " ...\n",
      " [ 0.  0.  1. ...  6.  0.  0.]\n",
      " [ 0.  0.  2. ... 12.  0.  0.]\n",
      " [ 0.  0. 10. ... 12.  1.  0.]]\n"
     ]
    },
    {
     "data": {
      "text/plain": [
       "<Figure size 576x396 with 0 Axes>"
      ]
     },
     "metadata": {},
     "output_type": "display_data"
    },
    {
     "data": {
      "image/png": "[encoded data removed]",
      "text/plain": [
       "<Figure size 396x396 with 1 Axes>"
      ]
     },
     "metadata": {},
     "output_type": "display_data"
    }
   ],
   "source": [
    "# load libraries\n",
    "from sklearn import datasets\n",
    "\n",
    "# digit dataset from sklearn\n",
    "digits = datasets.load_digits()\n",
    "\n",
    "# peek at the data\n",
    "print(digits.data.shape)\n",
    "print(digits.data)\n",
    "\n",
    "import matplotlib.pyplot as plt\n",
    "plt.gray()\n",
    "# change the numerical value to cycle through numbers\n",
    "plt.matshow(digits.images[-1])\n",
    "plt.show()"
   ]
  },
  {
   "cell_type": "markdown",
   "metadata": {},
   "source": [
    "<a id='Linear_Regression'></a>\n",
    "### Linear Regression\n"
   ]
  },
  {
   "cell_type": "code",
   "execution_count": 21,
   "metadata": {},
   "outputs": [
    {
     "name": "stdout",
     "output_type": "stream",
     "text": [
      "[8.86342983]\n",
      "8\n"
     ]
    }
   ],
   "source": [
    "# load libraries\n",
    "from sklearn import linear_model, datasets\n",
    "\n",
    "# Digit dataset from sklearn\n",
    "digits = datasets.load_digits()\n",
    "\n",
    "# create the LinearRegression model\n",
    "clf = linear_model.LinearRegression()\n",
    "\n",
    "# set training set\n",
    "x, y = digits.data[:-1], digits.target[:-1]\n",
    "\n",
    "# train model\n",
    "clf.fit(x,y)\n",
    "\n",
    "# predict\n",
    "y_pred = clf.predict([digits.data[-1]])\n",
    "y_true = digits.target[-1]\n",
    "\n",
    "print(y_pred)\n",
    "print(y_true)"
   ]
  },
  {
   "cell_type": "markdown",
   "metadata": {},
   "source": [
    "<a id='SVM'></a>\n",
    "### SVM (Support Vector Machine)\n",
    "\n",
    "This is a classification algorithm"
   ]
  },
  {
   "cell_type": "code",
   "execution_count": 3,
   "metadata": {},
   "outputs": [
    {
     "name": "stdout",
     "output_type": "stream",
     "text": [
      "[8]\n",
      "8\n"
     ]
    }
   ],
   "source": [
    "# Load libraries\n",
    "from sklearn import svm, datasets\n",
    "\n",
    "# digit dataset from sklearn\n",
    "digits = datasets.load_digits()\n",
    "\n",
    "# create the support vector classifier\n",
    "clf = svm.SVC(gamma = 0.001, C = 100)\n",
    "\n",
    "# set training set\n",
    "x, y = digits.data[:-1], digits.target[:-1]\n",
    "\n",
    "# train model\n",
    "clf.fit(x,y)\n",
    "\n",
    "# predict\n",
    "y_pred = clf.predict([digits.data[-1]])\n",
    "y_true = digits.target[-1]\n",
    "\n",
    "print(y_pred)\n",
    "print(y_true)"
   ]
  },
  {
   "cell_type": "markdown",
   "metadata": {},
   "source": [
    "<a id='KNN'></a>\n",
    "### KNN (K-Nearest Neighbors)\n",
    "\n",
    "Predicts unknown data point with its k nearest neighbors"
   ]
  },
  {
   "cell_type": "code",
   "execution_count": 4,
   "metadata": {},
   "outputs": [
    {
     "name": "stdout",
     "output_type": "stream",
     "text": [
      "[8]\n",
      "8\n"
     ]
    }
   ],
   "source": [
    "# Load Libraries\n",
    "from sklearn import datasets\n",
    "from sklearn.neighbors import KNeighborsClassifier\n",
    "\n",
    "# digit dataset from sklearn\n",
    "digits = datasets.load_digits()\n",
    "\n",
    "# create the KNeighborsClassifier\n",
    "clf = KNeighborsClassifier(n_neighbors=6)\n",
    "\n",
    "# set training set\n",
    "x, y = digits.data[:-1], digits.target[:-1]\n",
    "\n",
    "# train model\n",
    "clf.fit(x,y)\n",
    "\n",
    "# predict\n",
    "y_pred = clf.predict([digits.data[-1]])\n",
    "y_true = digits.target[-1]\n",
    "\n",
    "print(y_pred)\n",
    "print(y_true)"
   ]
  },
  {
   "cell_type": "markdown",
   "metadata": {},
   "source": [
    "<a id='Logistic_Regression'></a>\n",
    "### Logistic Regression\n",
    "\n",
    "Linear model for classification"
   ]
  },
  {
   "cell_type": "code",
   "execution_count": 19,
   "metadata": {},
   "outputs": [
    {
     "name": "stdout",
     "output_type": "stream",
     "text": [
      "[8]\n",
      "8\n"
     ]
    }
   ],
   "source": [
    "# Load Libraries\n",
    "from sklearn import datasets\n",
    "from sklearn.linear_model import LogisticRegression\n",
    "\n",
    "# digit dataset from sklearn\n",
    "digits = datasets.load_digits()\n",
    "\n",
    "# create the LogisticRegression Classifier\n",
    "clf = LogisticRegression(random_state=0, max_iter = 4000)\n",
    "\n",
    "# set training set\n",
    "x, y = digits.data[:-1], digits.target[:-1]\n",
    "\n",
    "# train model\n",
    "clf.fit(x,y)\n",
    "\n",
    "# predict\n",
    "y_pred = clf.predict([digits.data[-1]])\n",
    "y_true = digits.target[-1]\n",
    "\n",
    "print(y_pred)\n",
    "print(y_true)"
   ]
  },
  {
   "cell_type": "markdown",
   "metadata": {},
   "source": [
    "<a id='Decision_Tree'></a>\n",
    "### Decision Tree\n"
   ]
  },
  {
   "cell_type": "code",
   "execution_count": 24,
   "metadata": {},
   "outputs": [
    {
     "name": "stdout",
     "output_type": "stream",
     "text": [
      "[8]\n",
      "8\n"
     ]
    }
   ],
   "source": [
    "# Load Libraries\n",
    "from sklearn import datasets\n",
    "from sklearn.tree import DecisionTreeClassifier\n",
    "\n",
    "# digit dataset from sklearn\n",
    "digits = datasets.load_digits()\n",
    "\n",
    "# create the Decision Tree Classifier\n",
    "clf = DecisionTreeClassifier(random_state=0)\n",
    "\n",
    "# set training set\n",
    "x, y = digits.data[:-1], digits.target[:-1]\n",
    "\n",
    "# train model\n",
    "clf.fit(x,y)\n",
    "\n",
    "# predict\n",
    "y_pred = clf.predict([digits.data[-1]])\n",
    "y_true = digits.target[-1]\n",
    "\n",
    "print(y_pred)\n",
    "print(y_true)"
   ]
  },
  {
   "cell_type": "markdown",
   "metadata": {},
   "source": [
    "<a id='K_Means'></a>\n",
    "### K Means"
   ]
  },
  {
   "cell_type": "code",
   "execution_count": 25,
   "metadata": {},
   "outputs": [
    {
     "name": "stdout",
     "output_type": "stream",
     "text": [
      "[1]\n",
      "8\n"
     ]
    }
   ],
   "source": [
    "# load libraries\n",
    "from sklearn import datasets\n",
    "from sklearn.cluster import KMeans\n",
    "\n",
    "# digits dataset from sklearn\n",
    "digits = datasets.load_digits()\n",
    "\n",
    "# create K means \n",
    "clf = KMeans()\n",
    "\n",
    "# set training set\n",
    "x, y = digits.data[:-1], digits.target[:-1]\n",
    "\n",
    "# train model\n",
    "clf.fit(x,y)\n",
    "\n",
    "# predict\n",
    "y_pred = clf.predict([digits.data[-1]])\n",
    "y_true = digits.target[-1]\n",
    "\n",
    "print(y_pred)\n",
    "print(y_true)"
   ]
  },
  {
   "cell_type": "markdown",
   "metadata": {},
   "source": [
    "<a id='Random_Forest'></a>\n",
    "### Random Forest"
   ]
  },
  {
   "cell_type": "code",
   "execution_count": 36,
   "metadata": {},
   "outputs": [
    {
     "name": "stdout",
     "output_type": "stream",
     "text": [
      "[8]\n",
      "8\n"
     ]
    }
   ],
   "source": [
    "# Load Libraries\n",
    "from sklearn import datasets\n",
    "from sklearn.ensemble import RandomForestClassifier\n",
    "\n",
    "# digits dataset from sklearn\n",
    "digits = datasets.load_digits()\n",
    "\n",
    "# create random forest classifier\n",
    "clf = RandomForestClassifier(random_state=0)\n",
    "\n",
    "# set training datasets\n",
    "x, y = digits.data[:-1], digits.target[:-1]\n",
    "\n",
    "# train model\n",
    "clf.fit(x, y)\n",
    "\n",
    "# predict\n",
    "y_pred = clf.predict([digits.data[-1]])\n",
    "y_true = digits.target[-1]\n",
    "\n",
    "print(y_pred)\n",
    "print(y_true)"
   ]
  },
  {
   "cell_type": "markdown",
   "metadata": {},
   "source": [
    "<a id='Naive_Bayes'></a>\n",
    "### Naive Bayes\n",
    "\n",
    "There are a few versions of Naive Bayes on sklearn. This one is a classifier for multivariate Bernoulli models. "
   ]
  },
  {
   "cell_type": "code",
   "execution_count": 37,
   "metadata": {},
   "outputs": [
    {
     "name": "stdout",
     "output_type": "stream",
     "text": [
      "[8]\n",
      "8\n"
     ]
    }
   ],
   "source": [
    "# Load libraries\n",
    "from sklearn import datasets\n",
    "from sklearn.naive_bayes import BernoulliNB\n",
    "\n",
    "# digits dataset from sklearn\n",
    "digits = datasets.load_digits()\n",
    "\n",
    "# create naive bayes bernoulli \n",
    "clf = BernoulliNB()\n",
    "\n",
    "# set training datasets\n",
    "x, y = digits.data[:-1], digits.target[:-1]\n",
    "\n",
    "# train model\n",
    "clf.fit(x,y)\n",
    "\n",
    "# predict\n",
    "y_pred = clf.predict([digits.data[-1]])\n",
    "y_true = digits.target[-1]\n",
    "\n",
    "print(y_pred)\n",
    "print(y_true)"
   ]
  }
 ],
 "metadata": {
  "kernelspec": {
   "display_name": "Python 3",
   "language": "python",
   "name": "python3"
  },
  "language_info": {
   "codemirror_mode": {
    "name": "ipython",
    "version": 3
   },
   "file_extension": ".py",
   "mimetype": "text/x-python",
   "name": "python",
   "nbconvert_exporter": "python",
   "pygments_lexer": "ipython3",
   "version": "3.7.4"
  }
 },
 "nbformat": 4,
 "nbformat_minor": 4
}
