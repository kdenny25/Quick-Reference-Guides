{
 "cells": [
  {
   "cell_type": "markdown",
   "metadata": {},
   "source": [
    "# 10 Common Machine Learning Algorithms\n",
    "\n",
    "There are 3 main algorithm categories.\n",
    "\n",
    "1. **Supervised Algorithms:** \n",
    "\n",
    "2. **Unsupervised Algorithms:**\n",
    "\n",
    "3. **Reinforcement Algorithms:**\n",
    "\n",
    "### The 10 Algorithms\n",
    "\n",
    "* [Linear Regression](#Linear_Regression)\n",
    "* [SVM (Support Vector Machine)](#SVM)\n",
    "* [KNN (K-Nearest Neighbors)](#KNN)\n",
    "* [Logistic Regression](#Logistic_Regression)\n",
    "* [Decision Tree](#Decision_Tree)\n",
    "* [K-Means](#K_Means)\n",
    "* [Random Forest](#Random_Forest)\n",
    "* [Naive Bayes](#Naive_Bayes)\n",
    "* Dimensional Reduction Algorithms\n",
    "* Gradient Boosting Algorithms\n",
    "\n"
   ]
  },
  {
   "cell_type": "markdown",
   "metadata": {},
   "source": [
    "<a id='Linear_Regression'></a>\n",
    "### Linear Regression\n"
   ]
  },
  {
   "cell_type": "code",
   "execution_count": 21,
   "metadata": {},
   "outputs": [
    {
     "name": "stdout",
     "output_type": "stream",
     "text": [
      "[8.86342983]\n",
      "8\n"
     ]
    }
   ],
   "source": [
    "# load libraries\n",
    "from sklearn import linear_model, datasets\n",
    "\n",
    "# Digit dataset from sklearn\n",
    "digits = datasets.load_digits()\n",
    "\n",
    "# create the LinearRegression model\n",
    "clf = linear_model.LinearRegression()\n",
    "\n",
    "# set training set\n",
    "x, y = digits.data[:-1], digits.target[:-1]\n",
    "\n",
    "# train model\n",
    "clf.fit(x,y)\n",
    "\n",
    "# predict\n",
    "y_pred = clf.predict([digits.data[-1]])\n",
    "y_true = digits.target[-1]\n",
    "\n",
    "print(y_pred)\n",
    "print(y_true)"
   ]
  },
  {
   "cell_type": "markdown",
   "metadata": {},
   "source": [
    "<a id='SVM'></a>\n",
    "### SVM (Support Vector Machine)\n",
    "\n",
    "This is a classification algorithm"
   ]
  },
  {
   "cell_type": "code",
   "execution_count": 3,
   "metadata": {},
   "outputs": [
    {
     "name": "stdout",
     "output_type": "stream",
     "text": [
      "[8]\n",
      "8\n"
     ]
    }
   ],
   "source": [
    "# Load libraries\n",
    "from sklearn import svm, datasets\n",
    "\n",
    "# digit dataset from sklearn\n",
    "digits = datasets.load_digits()\n",
    "\n",
    "# create the support vector classifier\n",
    "clf = svm.SVC(gamma = 0.001, C = 100)\n",
    "\n",
    "# set training set\n",
    "x, y = digits.data[:-1], digits.target[:-1]\n",
    "\n",
    "# train model\n",
    "clf.fit(x,y)\n",
    "\n",
    "# predict\n",
    "y_pred = clf.predict([digits.data[-1]])\n",
    "y_true = digits.target[-1]\n",
    "\n",
    "print(y_pred)\n",
    "print(y_true)"
   ]
  },
  {
   "cell_type": "markdown",
   "metadata": {},
   "source": [
    "<a id='KNN'></a>\n",
    "### KNN (K-Nearest Neighbors)\n",
    "\n",
    "Predicts unknown data point with its k nearest neighbors"
   ]
  },
  {
   "cell_type": "code",
   "execution_count": 4,
   "metadata": {},
   "outputs": [
    {
     "name": "stdout",
     "output_type": "stream",
     "text": [
      "[8]\n",
      "8\n"
     ]
    }
   ],
   "source": [
    "# Load Libraries\n",
    "from sklearn import datasets\n",
    "from sklearn.neighbors import KNeighborsClassifier\n",
    "\n",
    "# digit dataset from sklearn\n",
    "digits = datasets.load_digits()\n",
    "\n",
    "# create the KNeighborsClassifier\n",
    "clf = KNeighborsClassifier(n_neighbors=6)\n",
    "\n",
    "# set training set\n",
    "x, y = digits.data[:-1], digits.target[:-1]\n",
    "\n",
    "# train model\n",
    "clf.fit(x,y)\n",
    "\n",
    "# predict\n",
    "y_pred = clf.predict([digits.data[-1]])\n",
    "y_true = digits.target[-1]\n",
    "\n",
    "print(y_pred)\n",
    "print(y_true)"
   ]
  },
  {
   "cell_type": "markdown",
   "metadata": {},
   "source": [
    "<a id='Logistic_Regression'></a>\n",
    "### Logistic Regression\n",
    "\n",
    "Linear model for classification"
   ]
  },
  {
   "cell_type": "code",
   "execution_count": 19,
   "metadata": {},
   "outputs": [
    {
     "name": "stdout",
     "output_type": "stream",
     "text": [
      "[8]\n",
      "8\n"
     ]
    }
   ],
   "source": [
    "# Load Libraries\n",
    "from sklearn import datasets\n",
    "from sklearn.linear_model import LogisticRegression\n",
    "\n",
    "# digit dataset from sklearn\n",
    "digits = datasets.load_digits()\n",
    "\n",
    "# create the LogisticRegression Classifier\n",
    "clf = LogisticRegression(random_state=0, max_iter = 4000)\n",
    "\n",
    "# set training set\n",
    "x, y = digits.data[:-1], digits.target[:-1]\n",
    "\n",
    "# train model\n",
    "clf.fit(x,y)\n",
    "\n",
    "# predict\n",
    "y_pred = clf.predict([digits.data[-1]])\n",
    "y_true = digits.target[-1]\n",
    "\n",
    "print(y_pred)\n",
    "print(y_true)"
   ]
  },
  {
   "cell_type": "markdown",
   "metadata": {},
   "source": [
    "<a id='Decision_Tree'></a>\n",
    "### Decision Tree\n"
   ]
  },
  {
   "cell_type": "code",
   "execution_count": 24,
   "metadata": {},
   "outputs": [
    {
     "name": "stdout",
     "output_type": "stream",
     "text": [
      "[8]\n",
      "8\n"
     ]
    }
   ],
   "source": [
    "# Load Libraries\n",
    "from sklearn import datasets\n",
    "from sklearn.tree import DecisionTreeClassifier\n",
    "\n",
    "# digit dataset from sklearn\n",
    "digits = datasets.load_digits()\n",
    "\n",
    "# create the Decision Tree Classifier\n",
    "clf = DecisionTreeClassifier(random_state=0)\n",
    "\n",
    "# set training set\n",
    "x, y = digits.data[:-1], digits.target[:-1]\n",
    "\n",
    "# train model\n",
    "clf.fit(x,y)\n",
    "\n",
    "# predict\n",
    "y_pred = clf.predict([digits.data[-1]])\n",
    "y_true = digits.target[-1]\n",
    "\n",
    "print(y_pred)\n",
    "print(y_true)"
   ]
  },
  {
   "cell_type": "markdown",
   "metadata": {},
   "source": [
    "<a id='K_Means'></a>\n",
    "### K Means"
   ]
  },
  {
   "cell_type": "code",
   "execution_count": 25,
   "metadata": {},
   "outputs": [
    {
     "name": "stdout",
     "output_type": "stream",
     "text": [
      "[1]\n",
      "8\n"
     ]
    }
   ],
   "source": [
    "# load libraries\n",
    "from sklearn import datasets\n",
    "from sklearn.cluster import KMeans\n",
    "\n",
    "# digits dataset from sklearn\n",
    "digits = datasets.load_digits()\n",
    "\n",
    "# create K means \n",
    "clf = KMeans()\n",
    "\n",
    "# set training set\n",
    "x, y = digits.data[:-1], digits.target[:-1]\n",
    "\n",
    "# train model\n",
    "clf.fit(x,y)\n",
    "\n",
    "# predict\n",
    "y_pred = clf.predict([digits.data[-1]])\n",
    "y_true = digits.target[-1]\n",
    "\n",
    "print(y_pred)\n",
    "print(y_true)"
   ]
  },
  {
   "cell_type": "markdown",
   "metadata": {},
   "source": [
    "<a id='Random_Forest'></a>\n",
    "### Random Forest"
   ]
  },
  {
   "cell_type": "code",
   "execution_count": 13,
   "metadata": {},
   "outputs": [
    {
     "name": "stdout",
     "output_type": "stream",
     "text": [
      "[8]\n",
      "8\n"
     ]
    }
   ],
   "source": [
    "# Load Libraries\n",
    "from sklearn import datasets\n",
    "from sklearn.ensemble import RandomForestClassifier\n",
    "\n",
    "# digits dataset from sklearn\n",
    "digits = datasets.load_digits()\n",
    "\n",
    "clf = RandomForestClassifier(random_state=0)\n",
    "\n",
    "# set training datasets\n",
    "x, y = digits.data[:-1], digits.target[:-1]\n",
    "\n",
    "# train model\n",
    "clf.fit(x, y)\n",
    "\n",
    "# predict\n",
    "y_pred = clf.predict([digits.data[-1]])\n",
    "y_true = digits.target[-1]\n",
    "\n",
    "print(y_pred)\n",
    "print(y_true)"
   ]
  },
  {
   "cell_type": "markdown",
   "metadata": {},
   "source": [
    "<a id='Naive_Bayes'></a>\n",
    "### Naive Bayes"
   ]
  },
  {
   "cell_type": "code",
   "execution_count": null,
   "metadata": {},
   "outputs": [],
   "source": []
  }
 ],
 "metadata": {
  "kernelspec": {
   "display_name": "Python 3",
   "language": "python",
   "name": "python3"
  },
  "language_info": {
   "codemirror_mode": {
    "name": "ipython",
    "version": 3
   },
   "file_extension": ".py",
   "mimetype": "text/x-python",
   "name": "python",
   "nbconvert_exporter": "python",
   "pygments_lexer": "ipython3",
   "version": "3.7.4"
  }
 },
 "nbformat": 4,
 "nbformat_minor": 4
}
